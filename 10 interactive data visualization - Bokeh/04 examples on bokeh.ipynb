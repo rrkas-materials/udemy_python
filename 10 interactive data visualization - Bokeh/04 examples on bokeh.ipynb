{
 "cells": [
  {
   "cell_type": "code",
   "execution_count": 1,
   "metadata": {},
   "outputs": [],
   "source": [
    "# multiple graphs on same plot\n",
    "from bokeh.plotting import figure, output_file, show\n",
    "import pandas\n",
    "df = pandas.read_csv('adbe.csv', parse_dates=['Date'])\n",
    "output_file('line.html')\n",
    "\n",
    "f = figure(width=500, height=250, x_axis_type='datetime', sizing_mode='scale_width')\n",
    "\n",
    "f.toolbar.logo = None\n",
    "f.title.text = 'Temp'\n",
    "f.title.text_color = 'green'\n",
    "f.title.text_font = 'times'\n",
    "f.xaxis.axis_label = 'Date'\n",
    "f.yaxis.axis_label = 'Intensity'\n",
    "f.yaxis.minor_tick_line_color = 'yellow'\n",
    "\n",
    "f.line(df['Date'], df['Close'], line_width=2, color='orange')\n",
    "f.circle(df['Date'], df['Open'], size=2, color='blue')\n",
    "f.patch(df['Date'], df['High'], alpha=0.3, color='pink', line_width=2)\n",
    "\n",
    "show(f)"
   ]
  }
 ],
 "metadata": {
  "kernelspec": {
   "display_name": "Python 3",
   "language": "python",
   "name": "python3"
  },
  "language_info": {
   "codemirror_mode": {
    "name": "ipython",
    "version": 3
   },
   "file_extension": ".py",
   "mimetype": "text/x-python",
   "name": "python",
   "nbconvert_exporter": "python",
   "pygments_lexer": "ipython3",
   "version": "3.6.9"
  }
 },
 "nbformat": 4,
 "nbformat_minor": 4
}
